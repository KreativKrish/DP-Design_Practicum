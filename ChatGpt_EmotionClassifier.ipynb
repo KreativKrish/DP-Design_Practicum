{
 "cells": [
  {
   "cell_type": "code",
   "execution_count": 3,
   "id": "0aa13418",
   "metadata": {},
   "outputs": [
    {
     "name": "stderr",
     "output_type": "stream",
     "text": [
      "[ WARN:0] global ./modules/videoio/src/cap_gstreamer.cpp (1100) open OpenCV | GStreamer warning: Cannot query video position: status=0, value=-1, duration=-1\n"
     ]
    },
    {
     "ename": "NameError",
     "evalue": "name 'detect_emotion' is not defined",
     "output_type": "error",
     "traceback": [
      "\u001b[0;31m---------------------------------------------------------------------------\u001b[0m",
      "\u001b[0;31mNameError\u001b[0m                                 Traceback (most recent call last)",
      "Cell \u001b[0;32mIn[3], line 39\u001b[0m\n\u001b[1;32m     35\u001b[0m roi_gray \u001b[38;5;241m=\u001b[39m cv2\u001b[38;5;241m.\u001b[39mresize(roi_gray, (\u001b[38;5;241m48\u001b[39m, \u001b[38;5;241m48\u001b[39m), interpolation\u001b[38;5;241m=\u001b[39mcv2\u001b[38;5;241m.\u001b[39mINTER_AREA)\n\u001b[1;32m     37\u001b[0m \u001b[38;5;66;03m# Run the emotion detection model on the face region\u001b[39;00m\n\u001b[1;32m     38\u001b[0m \u001b[38;5;66;03m# Replace with your own emotion detection code\u001b[39;00m\n\u001b[0;32m---> 39\u001b[0m emotion \u001b[38;5;241m=\u001b[39m \u001b[43mdetect_emotion\u001b[49m(roi_gray, emotion_model)\n\u001b[1;32m     41\u001b[0m \u001b[38;5;66;03m# Draw a rectangle around the detected face\u001b[39;00m\n\u001b[1;32m     42\u001b[0m cv2\u001b[38;5;241m.\u001b[39mrectangle(frame, (x, y), (x\u001b[38;5;241m+\u001b[39mw, y\u001b[38;5;241m+\u001b[39mh), (\u001b[38;5;241m0\u001b[39m, \u001b[38;5;241m255\u001b[39m, \u001b[38;5;241m0\u001b[39m), \u001b[38;5;241m2\u001b[39m)\n",
      "\u001b[0;31mNameError\u001b[0m: name 'detect_emotion' is not defined"
     ]
    }
   ],
   "source": [
    "import cv2\n",
    "import pyaudio\n",
    "import numpy as np\n",
    "\n",
    "# Load the Haar Cascade classifier for face detection\n",
    "face_cascade = cv2.CascadeClassifier('haarcascade_frontalface_default.xml')\n",
    "\n",
    "# Load the emotion detection model\n",
    "# Replace with your own model\n",
    "emotion_model = cv2.imread('actor.jpg')\n",
    "\n",
    "# Initialize the camera\n",
    "camera = cv2.VideoCapture(0)\n",
    "\n",
    "# Initialize the microphone\n",
    "audio = pyaudio.PyAudio()\n",
    "stream = audio.open(format=pyaudio.paInt16, channels=1, rate=44100, input=True, frames_per_buffer=1024)\n",
    "\n",
    "while True:\n",
    "    # Capture a frame from the camera\n",
    "    ret, frame = camera.read()\n",
    "\n",
    "    # Convert the frame to grayscale\n",
    "    gray = cv2.cvtColor(frame, cv2.COLOR_RGB2GRAY)\n",
    "\n",
    "    # Detect faces in the frame\n",
    "    faces = face_cascade.detectMultiScale(gray, scaleFactor=1.5, minNeighbors=5)\n",
    "\n",
    "    # Iterate through each detected face\n",
    "    for (x, y, w, h) in faces:\n",
    "        # Extract the face region from the frame\n",
    "        roi_gray = gray[y:y+h, x:x+w]\n",
    "\n",
    "        # Resize the face region to match the input size of the emotion detection model\n",
    "        roi_gray = cv2.resize(roi_gray, (48, 48), interpolation=cv2.INTER_AREA)\n",
    "\n",
    "        # Run the emotion detection model on the face region\n",
    "        # Replace with your own emotion detection code\n",
    "        emotion = detect_emotion(roi_gray, emotion_model)\n",
    "\n",
    "        # Draw a rectangle around the detected face\n",
    "        cv2.rectangle(frame, (x, y), (x+w, y+h), (0, 255, 0), 2)\n",
    "\n",
    "        # Read an audio chunk from the microphone\n",
    "        audio_chunk = stream.read(1024)\n",
    "\n",
    "        # Convert the audio chunk to a numpy array\n",
    "        audio_np = np.frombuffer(audio_chunk, dtype=np.int16)\n",
    "\n",
    "        # Process the audio to detect emotions\n",
    "        # Replace with your own emotion detection code\n",
    "        detect_emotion_from_audio(audio_np)\n",
    "\n",
    "        # Display the detected emotion text on the frame\n",
    "        cv2.putText(frame, emotion, (x, y-10), cv2.FONT_HERSHEY_SIMPLEX, 0.9, (0, 255, 0), 2)\n",
    "\n",
    "    # Display the frame\n",
    "    cv2.imshow('Emotion Detection', frame)\n",
    "\n",
    "    # Exit if the 'q' key is pressed\n",
    "    if cv2.waitKey(1) & 0xFF == ord('q'):\n",
    "        break\n",
    "\n",
    "# Release the camera and microphone, and close all windows\n",
    "camera.release()\n",
    "stream.stop_stream()\n",
    "stream.close()\n",
    "audio.terminate()\n",
    "cv2.destroyAllWindows()\n"
   ]
  }
 ],
 "metadata": {
  "kernelspec": {
   "display_name": "Python 3 (ipykernel)",
   "language": "python",
   "name": "python3"
  },
  "language_info": {
   "codemirror_mode": {
    "name": "ipython",
    "version": 3
   },
   "file_extension": ".py",
   "mimetype": "text/x-python",
   "name": "python",
   "nbconvert_exporter": "python",
   "pygments_lexer": "ipython3",
   "version": "3.10.6"
  }
 },
 "nbformat": 4,
 "nbformat_minor": 5
}
